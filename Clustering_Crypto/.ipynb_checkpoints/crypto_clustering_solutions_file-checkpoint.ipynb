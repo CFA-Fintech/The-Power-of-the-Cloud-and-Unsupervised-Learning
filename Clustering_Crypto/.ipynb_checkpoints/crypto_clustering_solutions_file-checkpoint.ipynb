{
 "cells": [
  {
   "cell_type": "markdown",
   "metadata": {},
   "source": [
    "# Clustering Crypto"
   ]
  },
  {
   "cell_type": "code",
   "execution_count": 1,
   "metadata": {},
   "outputs": [],
   "source": [
    "# Initial imports\n",
    "import requests\n",
    "import pandas as pd\n",
    "from pathlib import Path\n",
    "import altair as alt\n",
    "from sklearn.preprocessing import StandardScaler, MinMaxScaler\n",
    "from sklearn.decomposition import PCA\n",
    "from sklearn.cluster import KMeans"
   ]
  },
  {
   "cell_type": "markdown",
   "metadata": {},
   "source": [
    "### Fetching Cryptocurrency Data"
   ]
  },
  {
   "cell_type": "code",
   "execution_count": 2,
   "metadata": {
    "scrolled": true
   },
   "outputs": [],
   "source": [
    "# Use the following endpoint to fetch json data\n",
    "import json\n",
    "import pprint\n",
    "url = \"https://min-api.cryptocompare.com/data/all/coinlist\"\n",
    "r = requests.get(url)\n",
    "content = r.content\n",
    "content_d = content.decode('utf-8')\n",
    "data = json.loads(content_d)"
   ]
  },
  {
   "cell_type": "code",
   "execution_count": 3,
   "metadata": {},
   "outputs": [
    {
     "data": {
      "text/html": [
       "<div>\n",
       "<style scoped>\n",
       "    .dataframe tbody tr th:only-of-type {\n",
       "        vertical-align: middle;\n",
       "    }\n",
       "\n",
       "    .dataframe tbody tr th {\n",
       "        vertical-align: top;\n",
       "    }\n",
       "\n",
       "    .dataframe thead th {\n",
       "        text-align: right;\n",
       "    }\n",
       "</style>\n",
       "<table border=\"1\" class=\"dataframe\">\n",
       "  <thead>\n",
       "    <tr style=\"text-align: right;\">\n",
       "      <th></th>\n",
       "      <th>Id</th>\n",
       "      <th>Url</th>\n",
       "      <th>ImageUrl</th>\n",
       "      <th>ContentCreatedOn</th>\n",
       "      <th>Name</th>\n",
       "      <th>Symbol</th>\n",
       "      <th>CoinName</th>\n",
       "      <th>FullName</th>\n",
       "      <th>Description</th>\n",
       "      <th>AssetTokenStatus</th>\n",
       "      <th>...</th>\n",
       "      <th>BlockTime</th>\n",
       "      <th>AssetLaunchDate</th>\n",
       "      <th>MaxSupply</th>\n",
       "      <th>MktCapPenalty</th>\n",
       "      <th>PlatformType</th>\n",
       "      <th>BuiltOn</th>\n",
       "      <th>SmartContractAddress</th>\n",
       "      <th>DecimalPoints</th>\n",
       "      <th>Difficulty</th>\n",
       "      <th>IsUsedInDefi</th>\n",
       "    </tr>\n",
       "  </thead>\n",
       "  <tbody>\n",
       "    <tr>\n",
       "      <th>42</th>\n",
       "      <td>4321</td>\n",
       "      <td>/coins/42/overview</td>\n",
       "      <td>/media/35650717/42.jpg</td>\n",
       "      <td>1427211129</td>\n",
       "      <td>42</td>\n",
       "      <td>42</td>\n",
       "      <td>42 Coin</td>\n",
       "      <td>42 Coin (42)</td>\n",
       "      <td>Everything about 42 coin is 42 - apart from th...</td>\n",
       "      <td>N/A</td>\n",
       "      <td>...</td>\n",
       "      <td>0</td>\n",
       "      <td>0000-00-00</td>\n",
       "      <td>0</td>\n",
       "      <td>0</td>\n",
       "      <td>NaN</td>\n",
       "      <td>NaN</td>\n",
       "      <td>NaN</td>\n",
       "      <td>NaN</td>\n",
       "      <td>NaN</td>\n",
       "      <td>NaN</td>\n",
       "    </tr>\n",
       "  </tbody>\n",
       "</table>\n",
       "<p>1 rows × 31 columns</p>\n",
       "</div>"
      ],
      "text/plain": [
       "      Id                 Url                ImageUrl ContentCreatedOn Name  \\\n",
       "42  4321  /coins/42/overview  /media/35650717/42.jpg       1427211129   42   \n",
       "\n",
       "   Symbol CoinName      FullName  \\\n",
       "42     42  42 Coin  42 Coin (42)   \n",
       "\n",
       "                                          Description AssetTokenStatus  ...  \\\n",
       "42  Everything about 42 coin is 42 - apart from th...              N/A  ...   \n",
       "\n",
       "   BlockTime AssetLaunchDate MaxSupply MktCapPenalty PlatformType BuiltOn  \\\n",
       "42         0      0000-00-00         0             0          NaN     NaN   \n",
       "\n",
       "   SmartContractAddress DecimalPoints Difficulty IsUsedInDefi  \n",
       "42                  NaN           NaN        NaN          NaN  \n",
       "\n",
       "[1 rows x 31 columns]"
      ]
     },
     "execution_count": 3,
     "metadata": {},
     "output_type": "execute_result"
    }
   ],
   "source": [
    "# Create a DataFrame \n",
    "# HINT: You will need to use the 'Data' key from the json response, then transpose the DataFrame.\n",
    "# dataframe creation\n",
    "crypto_df = pd.DataFrame(data=data['Data'])\n",
    "\n",
    "# Transpose Dataframe\n",
    "crypto_df = crypto_df.T\n",
    "\n",
    "crypto_df.head(1)"
   ]
  },
  {
   "cell_type": "code",
   "execution_count": 4,
   "metadata": {},
   "outputs": [],
   "source": [
    "# Alternatively, use the provided csv file:\n",
    "# file_path = Path(\"Resources/crypto_data.csv\")\n",
    "\n",
    "# Create a DataFrame\n",
    "# crypto_df = pd.read_csv(file_path)\n",
    "# crypto_df.head()"
   ]
  },
  {
   "cell_type": "markdown",
   "metadata": {},
   "source": [
    "### Data Preprocessing"
   ]
  },
  {
   "cell_type": "code",
   "execution_count": 5,
   "metadata": {},
   "outputs": [
    {
     "data": {
      "text/html": [
       "<div>\n",
       "<style scoped>\n",
       "    .dataframe tbody tr th:only-of-type {\n",
       "        vertical-align: middle;\n",
       "    }\n",
       "\n",
       "    .dataframe tbody tr th {\n",
       "        vertical-align: top;\n",
       "    }\n",
       "\n",
       "    .dataframe thead th {\n",
       "        text-align: right;\n",
       "    }\n",
       "</style>\n",
       "<table border=\"1\" class=\"dataframe\">\n",
       "  <thead>\n",
       "    <tr style=\"text-align: right;\">\n",
       "      <th></th>\n",
       "      <th>CoinName</th>\n",
       "      <th>Algorithm</th>\n",
       "      <th>IsTrading</th>\n",
       "      <th>ProofType</th>\n",
       "      <th>TotalCoinsMined</th>\n",
       "      <th>MaxSupply</th>\n",
       "    </tr>\n",
       "  </thead>\n",
       "  <tbody>\n",
       "    <tr>\n",
       "      <th>42</th>\n",
       "      <td>42 Coin</td>\n",
       "      <td>Scrypt</td>\n",
       "      <td>True</td>\n",
       "      <td>PoW/PoS</td>\n",
       "      <td>0</td>\n",
       "      <td>0</td>\n",
       "    </tr>\n",
       "    <tr>\n",
       "      <th>300</th>\n",
       "      <td>300 token</td>\n",
       "      <td>N/A</td>\n",
       "      <td>True</td>\n",
       "      <td>N/A</td>\n",
       "      <td>300</td>\n",
       "      <td>300</td>\n",
       "    </tr>\n",
       "    <tr>\n",
       "      <th>365</th>\n",
       "      <td>365Coin</td>\n",
       "      <td>X11</td>\n",
       "      <td>True</td>\n",
       "      <td>PoW/PoS</td>\n",
       "      <td>0</td>\n",
       "      <td>0</td>\n",
       "    </tr>\n",
       "    <tr>\n",
       "      <th>404</th>\n",
       "      <td>404Coin</td>\n",
       "      <td>Scrypt</td>\n",
       "      <td>True</td>\n",
       "      <td>PoW/PoS</td>\n",
       "      <td>0</td>\n",
       "      <td>0</td>\n",
       "    </tr>\n",
       "    <tr>\n",
       "      <th>433</th>\n",
       "      <td>433 Token</td>\n",
       "      <td>N/A</td>\n",
       "      <td>False</td>\n",
       "      <td>N/A</td>\n",
       "      <td>NaN</td>\n",
       "      <td>NaN</td>\n",
       "    </tr>\n",
       "  </tbody>\n",
       "</table>\n",
       "</div>"
      ],
      "text/plain": [
       "      CoinName Algorithm IsTrading ProofType TotalCoinsMined MaxSupply\n",
       "42     42 Coin    Scrypt      True   PoW/PoS               0         0\n",
       "300  300 token       N/A      True       N/A             300       300\n",
       "365    365Coin       X11      True   PoW/PoS               0         0\n",
       "404    404Coin    Scrypt      True   PoW/PoS               0         0\n",
       "433  433 Token       N/A     False       N/A             NaN       NaN"
      ]
     },
     "execution_count": 5,
     "metadata": {},
     "output_type": "execute_result"
    }
   ],
   "source": [
    "# Keep only necessary columns:\n",
    "# 'CoinName','Algorithm','IsTrading','ProofType','TotalCoinsMined','TotalCoinSupply'\n",
    "\n",
    "\n",
    "# Reorder Columns that are still in the dataframe\n",
    "crypto_df = crypto_df[['CoinName', 'Algorithm', 'IsTrading', 'ProofType', 'TotalCoinsMined', 'MaxSupply']]\n",
    "\n",
    "crypto_df.head()"
   ]
  },
  {
   "cell_type": "code",
   "execution_count": 6,
   "metadata": {},
   "outputs": [],
   "source": [
    "# Keep only cryptocurrencies that are trading\n",
    "\n",
    "# determine the count of false values(1094)\n",
    "# crypto_df['IsTrading'].value_counts() \n",
    "\n",
    "crypto_df.drop(crypto_df[crypto_df['IsTrading'] == False].index,\n",
    "              inplace=True)"
   ]
  },
  {
   "cell_type": "code",
   "execution_count": 7,
   "metadata": {},
   "outputs": [],
   "source": [
    "# Keep only cryptocurrencies with a working algorithm\n",
    "crypto_df.drop(crypto_df[crypto_df['Algorithm'] == 'N/A'].index, inplace=True)"
   ]
  },
  {
   "cell_type": "code",
   "execution_count": 8,
   "metadata": {},
   "outputs": [],
   "source": [
    "# Remove the \"IsTrading\" column\n",
    "crypto_df.drop(columns = ['IsTrading'], inplace=True)"
   ]
  },
  {
   "cell_type": "code",
   "execution_count": 9,
   "metadata": {},
   "outputs": [],
   "source": [
    "# Remove rows with at least 1 null value\n",
    "crypto_df.dropna(inplace=True)"
   ]
  },
  {
   "cell_type": "code",
   "execution_count": 10,
   "metadata": {},
   "outputs": [],
   "source": [
    "# Remove rows with cryptocurrencies having no coins mined\n",
    "crypto_df.drop(crypto_df[crypto_df['TotalCoinsMined'] == 0].index, inplace=True)"
   ]
  },
  {
   "cell_type": "code",
   "execution_count": 11,
   "metadata": {},
   "outputs": [],
   "source": [
    "# Drop rows where there are 'N/A' text values\n",
    "crypto_df = crypto_df[crypto_df != 'N/A'].dropna()"
   ]
  },
  {
   "cell_type": "code",
   "execution_count": 12,
   "metadata": {},
   "outputs": [],
   "source": [
    "# Store the 'CoinName'column in its own DataFrame prior to dropping it from crypto_df\n",
    "CoinName_df = crypto_df['CoinName'].to_frame()"
   ]
  },
  {
   "cell_type": "code",
   "execution_count": 13,
   "metadata": {},
   "outputs": [],
   "source": [
    "# Drop the 'CoinName' column since it's not going to be used on the clustering algorithm\n",
    "crypto_df.drop(columns = ['CoinName'], inplace=True)"
   ]
  },
  {
   "cell_type": "code",
   "execution_count": 14,
   "metadata": {},
   "outputs": [],
   "source": [
    "# Create dummy variables for text features\n",
    "X = pd.get_dummies(crypto_df, columns=['Algorithm', 'ProofType'], drop_first=True)"
   ]
  },
  {
   "cell_type": "code",
   "execution_count": 15,
   "metadata": {},
   "outputs": [],
   "source": [
    "# Standardize data\n",
    "X_scaled = StandardScaler().fit_transform(X)"
   ]
  },
  {
   "cell_type": "markdown",
   "metadata": {},
   "source": [
    "### Reducing Dimensions Using PCA"
   ]
  },
  {
   "cell_type": "code",
   "execution_count": 16,
   "metadata": {},
   "outputs": [],
   "source": [
    "# Use PCA to reduce dimensions to 3 principal components\n",
    "pca = PCA(n_components=3)\n",
    "crypto_pca = pca.fit_transform(X_scaled)"
   ]
  },
  {
   "cell_type": "code",
   "execution_count": 17,
   "metadata": {},
   "outputs": [
    {
     "data": {
      "text/html": [
       "<div>\n",
       "<style scoped>\n",
       "    .dataframe tbody tr th:only-of-type {\n",
       "        vertical-align: middle;\n",
       "    }\n",
       "\n",
       "    .dataframe tbody tr th {\n",
       "        vertical-align: top;\n",
       "    }\n",
       "\n",
       "    .dataframe thead th {\n",
       "        text-align: right;\n",
       "    }\n",
       "</style>\n",
       "<table border=\"1\" class=\"dataframe\">\n",
       "  <thead>\n",
       "    <tr style=\"text-align: right;\">\n",
       "      <th></th>\n",
       "      <th>PC 1</th>\n",
       "      <th>PC 2</th>\n",
       "      <th>PC 3</th>\n",
       "    </tr>\n",
       "  </thead>\n",
       "  <tbody>\n",
       "    <tr>\n",
       "      <th>NVC</th>\n",
       "      <td>-0.373536</td>\n",
       "      <td>1.232409</td>\n",
       "      <td>-1.693690</td>\n",
       "    </tr>\n",
       "    <tr>\n",
       "      <th>XCP</th>\n",
       "      <td>-0.476476</td>\n",
       "      <td>-1.625347</td>\n",
       "      <td>0.031088</td>\n",
       "    </tr>\n",
       "    <tr>\n",
       "      <th>NSR</th>\n",
       "      <td>-0.166336</td>\n",
       "      <td>1.103218</td>\n",
       "      <td>1.046176</td>\n",
       "    </tr>\n",
       "    <tr>\n",
       "      <th>MONA</th>\n",
       "      <td>-0.450968</td>\n",
       "      <td>-0.870212</td>\n",
       "      <td>-0.526856</td>\n",
       "    </tr>\n",
       "    <tr>\n",
       "      <th>TRI</th>\n",
       "      <td>-0.350827</td>\n",
       "      <td>2.057431</td>\n",
       "      <td>-2.196086</td>\n",
       "    </tr>\n",
       "  </tbody>\n",
       "</table>\n",
       "</div>"
      ],
      "text/plain": [
       "          PC 1      PC 2      PC 3\n",
       "NVC  -0.373536  1.232409 -1.693690\n",
       "XCP  -0.476476 -1.625347  0.031088\n",
       "NSR  -0.166336  1.103218  1.046176\n",
       "MONA -0.450968 -0.870212 -0.526856\n",
       "TRI  -0.350827  2.057431 -2.196086"
      ]
     },
     "execution_count": 17,
     "metadata": {},
     "output_type": "execute_result"
    }
   ],
   "source": [
    "# Create a DataFrame with the principal components data\n",
    "pca_df = pd.DataFrame(data=crypto_pca,\n",
    "                            columns=['PC 1', 'PC 2', 'PC 3'],\n",
    "                            index=crypto_df.index\n",
    "                            )\n",
    "pca_df.head()"
   ]
  },
  {
   "cell_type": "markdown",
   "metadata": {},
   "source": [
    "### Clustering Crytocurrencies Using K-Means\n",
    "\n",
    "#### Find the Best Value for `k` Using the Elbow Curve"
   ]
  },
  {
   "cell_type": "code",
   "execution_count": 18,
   "metadata": {},
   "outputs": [
    {
     "data": {
      "text/html": [
       "\n",
       "<div id=\"altair-viz-c184a6596ae24e8db3e42766aa366cb5\"></div>\n",
       "<script type=\"text/javascript\">\n",
       "  (function(spec, embedOpt){\n",
       "    let outputDiv = document.currentScript.previousElementSibling;\n",
       "    if (outputDiv.id !== \"altair-viz-c184a6596ae24e8db3e42766aa366cb5\") {\n",
       "      outputDiv = document.getElementById(\"altair-viz-c184a6596ae24e8db3e42766aa366cb5\");\n",
       "    }\n",
       "    const paths = {\n",
       "      \"vega\": \"https://cdn.jsdelivr.net/npm//vega@5?noext\",\n",
       "      \"vega-lib\": \"https://cdn.jsdelivr.net/npm//vega-lib?noext\",\n",
       "      \"vega-lite\": \"https://cdn.jsdelivr.net/npm//vega-lite@4.8.1?noext\",\n",
       "      \"vega-embed\": \"https://cdn.jsdelivr.net/npm//vega-embed@6?noext\",\n",
       "    };\n",
       "\n",
       "    function loadScript(lib) {\n",
       "      return new Promise(function(resolve, reject) {\n",
       "        var s = document.createElement('script');\n",
       "        s.src = paths[lib];\n",
       "        s.async = true;\n",
       "        s.onload = () => resolve(paths[lib]);\n",
       "        s.onerror = () => reject(`Error loading script: ${paths[lib]}`);\n",
       "        document.getElementsByTagName(\"head\")[0].appendChild(s);\n",
       "      });\n",
       "    }\n",
       "\n",
       "    function showError(err) {\n",
       "      outputDiv.innerHTML = `<div class=\"error\" style=\"color:red;\">${err}</div>`;\n",
       "      throw err;\n",
       "    }\n",
       "\n",
       "    function displayChart(vegaEmbed) {\n",
       "      vegaEmbed(outputDiv, spec, embedOpt)\n",
       "        .catch(err => showError(`Javascript Error: ${err.message}<br>This usually means there's a typo in your chart specification. See the javascript console for the full traceback.`));\n",
       "    }\n",
       "\n",
       "    if(typeof define === \"function\" && define.amd) {\n",
       "      requirejs.config({paths});\n",
       "      require([\"vega-embed\"], displayChart, err => showError(`Error loading script: ${err.message}`));\n",
       "    } else if (typeof vegaEmbed === \"function\") {\n",
       "      displayChart(vegaEmbed);\n",
       "    } else {\n",
       "      loadScript(\"vega\")\n",
       "        .then(() => loadScript(\"vega-lite\"))\n",
       "        .then(() => loadScript(\"vega-embed\"))\n",
       "        .catch(showError)\n",
       "        .then(() => displayChart(vegaEmbed));\n",
       "    }\n",
       "  })({\"config\": {\"view\": {\"continuousWidth\": 400, \"continuousHeight\": 300}}, \"data\": {\"name\": \"data-76072a2b24a44c82d561a1ba6e8d0df2\"}, \"mark\": \"line\", \"encoding\": {\"x\": {\"type\": \"quantitative\", \"field\": \"k\"}, \"y\": {\"type\": \"quantitative\", \"field\": \"inertia\"}}, \"$schema\": \"https://vega.github.io/schema/vega-lite/v4.8.1.json\", \"datasets\": {\"data-76072a2b24a44c82d561a1ba6e8d0df2\": [{\"k\": 1, \"inertia\": 746.2073045766133}, {\"k\": 2, \"inertia\": 461.23631699749126}, {\"k\": 3, \"inertia\": 247.74878756186902}, {\"k\": 4, \"inertia\": 98.20109811436447}, {\"k\": 5, \"inertia\": 50.184635302978286}, {\"k\": 6, \"inertia\": 34.140579799290364}, {\"k\": 7, \"inertia\": 25.78088292250698}, {\"k\": 8, \"inertia\": 17.531697682647824}, {\"k\": 9, \"inertia\": 12.296602662107931}, {\"k\": 10, \"inertia\": 7.778322980569924}]}}, {\"mode\": \"vega-lite\"});\n",
       "</script>"
      ],
      "text/plain": [
       "alt.Chart(...)"
      ]
     },
     "execution_count": 18,
     "metadata": {},
     "output_type": "execute_result"
    }
   ],
   "source": [
    "inertia = []\n",
    "k = list(range(1, 11))\n",
    "\n",
    "# Calculate the inertia for the range of k values\n",
    "for i in k:\n",
    "    km = KMeans(n_clusters=i, random_state=6)\n",
    "    km.fit(pca_df)\n",
    "    inertia.append(km.inertia_)\n",
    "\n",
    "# Create the Elbow Curve using hvPlot\n",
    "elbow_data = {'k': k, 'inertia': inertia}\n",
    "elbow_df = pd.DataFrame(elbow_data)\n",
    "alt.Chart(elbow_df).mark_line().encode(x='k', y='inertia')"
   ]
  },
  {
   "cell_type": "markdown",
   "metadata": {},
   "source": [
    "Running K-Means with `k=<your best value for k here>`"
   ]
  },
  {
   "cell_type": "code",
   "execution_count": 19,
   "metadata": {},
   "outputs": [
    {
     "data": {
      "text/html": [
       "<div>\n",
       "<style scoped>\n",
       "    .dataframe tbody tr th:only-of-type {\n",
       "        vertical-align: middle;\n",
       "    }\n",
       "\n",
       "    .dataframe tbody tr th {\n",
       "        vertical-align: top;\n",
       "    }\n",
       "\n",
       "    .dataframe thead th {\n",
       "        text-align: right;\n",
       "    }\n",
       "</style>\n",
       "<table border=\"1\" class=\"dataframe\">\n",
       "  <thead>\n",
       "    <tr style=\"text-align: right;\">\n",
       "      <th></th>\n",
       "      <th>Algorithm</th>\n",
       "      <th>ProofType</th>\n",
       "      <th>TotalCoinsMined</th>\n",
       "      <th>MaxSupply</th>\n",
       "      <th>CoinName</th>\n",
       "      <th>PC 1</th>\n",
       "      <th>PC 2</th>\n",
       "      <th>PC 3</th>\n",
       "      <th>class</th>\n",
       "    </tr>\n",
       "  </thead>\n",
       "  <tbody>\n",
       "    <tr>\n",
       "      <th>NVC</th>\n",
       "      <td>Scrypt</td>\n",
       "      <td>PoW/PoS</td>\n",
       "      <td>3.07931e+06</td>\n",
       "      <td>-1</td>\n",
       "      <td>NovaCoin</td>\n",
       "      <td>-0.373536</td>\n",
       "      <td>1.232409</td>\n",
       "      <td>-1.693690</td>\n",
       "      <td>3</td>\n",
       "    </tr>\n",
       "    <tr>\n",
       "      <th>XCP</th>\n",
       "      <td>SHA-256</td>\n",
       "      <td>PoW</td>\n",
       "      <td>2.61522e+06</td>\n",
       "      <td>-1</td>\n",
       "      <td>CounterParty</td>\n",
       "      <td>-0.476476</td>\n",
       "      <td>-1.625347</td>\n",
       "      <td>0.031088</td>\n",
       "      <td>1</td>\n",
       "    </tr>\n",
       "    <tr>\n",
       "      <th>NSR</th>\n",
       "      <td>PoS</td>\n",
       "      <td>PoS</td>\n",
       "      <td>5.84967e+09</td>\n",
       "      <td>0</td>\n",
       "      <td>NuShares</td>\n",
       "      <td>-0.166336</td>\n",
       "      <td>1.103218</td>\n",
       "      <td>1.046176</td>\n",
       "      <td>0</td>\n",
       "    </tr>\n",
       "    <tr>\n",
       "      <th>MONA</th>\n",
       "      <td>Scrypt</td>\n",
       "      <td>PoW</td>\n",
       "      <td>8.00016e+07</td>\n",
       "      <td>-1</td>\n",
       "      <td>MonaCoin</td>\n",
       "      <td>-0.450968</td>\n",
       "      <td>-0.870212</td>\n",
       "      <td>-0.526856</td>\n",
       "      <td>1</td>\n",
       "    </tr>\n",
       "    <tr>\n",
       "      <th>TRI</th>\n",
       "      <td>X13</td>\n",
       "      <td>PoW/PoS</td>\n",
       "      <td>166244</td>\n",
       "      <td>0</td>\n",
       "      <td>Triangles Coin</td>\n",
       "      <td>-0.350827</td>\n",
       "      <td>2.057431</td>\n",
       "      <td>-2.196086</td>\n",
       "      <td>3</td>\n",
       "    </tr>\n",
       "  </tbody>\n",
       "</table>\n",
       "</div>"
      ],
      "text/plain": [
       "     Algorithm ProofType TotalCoinsMined MaxSupply        CoinName      PC 1  \\\n",
       "NVC     Scrypt   PoW/PoS     3.07931e+06        -1        NovaCoin -0.373536   \n",
       "XCP    SHA-256       PoW     2.61522e+06        -1    CounterParty -0.476476   \n",
       "NSR        PoS       PoS     5.84967e+09         0        NuShares -0.166336   \n",
       "MONA    Scrypt       PoW     8.00016e+07        -1        MonaCoin -0.450968   \n",
       "TRI        X13   PoW/PoS          166244         0  Triangles Coin -0.350827   \n",
       "\n",
       "          PC 2      PC 3  class  \n",
       "NVC   1.232409 -1.693690      3  \n",
       "XCP  -1.625347  0.031088      1  \n",
       "NSR   1.103218  1.046176      0  \n",
       "MONA -0.870212 -0.526856      1  \n",
       "TRI   2.057431 -2.196086      3  "
      ]
     },
     "execution_count": 19,
     "metadata": {},
     "output_type": "execute_result"
    }
   ],
   "source": [
    "# Initialize the K-Means model\n",
    "model = KMeans(n_clusters=4, random_state=0)\n",
    "\n",
    "# Fit the model\n",
    "model.fit(pca_df)\n",
    "\n",
    "# Predict clusters\n",
    "predictions = model.predict(pca_df)\n",
    "pca_df['class'] = model.labels_\n",
    "\n",
    "# Create a new DataFrame including predicted clusters and cryptocurrencies features\n",
    "clustered_df = pd.concat([crypto_df, CoinName_df, pca_df], axis=1)\n",
    "clustered_df.head()"
   ]
  },
  {
   "cell_type": "markdown",
   "metadata": {},
   "source": [
    "### Visualizing Results\n",
    "\n",
    "#### 3D-Scatter with Clusters"
   ]
  },
  {
   "cell_type": "code",
   "execution_count": 24,
   "metadata": {},
   "outputs": [
    {
     "data": {
      "text/html": [
       "\n",
       "<div id=\"altair-viz-af7369fa93f141b2bd0c31275318da59\"></div>\n",
       "<script type=\"text/javascript\">\n",
       "  (function(spec, embedOpt){\n",
       "    let outputDiv = document.currentScript.previousElementSibling;\n",
       "    if (outputDiv.id !== \"altair-viz-af7369fa93f141b2bd0c31275318da59\") {\n",
       "      outputDiv = document.getElementById(\"altair-viz-af7369fa93f141b2bd0c31275318da59\");\n",
       "    }\n",
       "    const paths = {\n",
       "      \"vega\": \"https://cdn.jsdelivr.net/npm//vega@5?noext\",\n",
       "      \"vega-lib\": \"https://cdn.jsdelivr.net/npm//vega-lib?noext\",\n",
       "      \"vega-lite\": \"https://cdn.jsdelivr.net/npm//vega-lite@4.8.1?noext\",\n",
       "      \"vega-embed\": \"https://cdn.jsdelivr.net/npm//vega-embed@6?noext\",\n",
       "    };\n",
       "\n",
       "    function loadScript(lib) {\n",
       "      return new Promise(function(resolve, reject) {\n",
       "        var s = document.createElement('script');\n",
       "        s.src = paths[lib];\n",
       "        s.async = true;\n",
       "        s.onload = () => resolve(paths[lib]);\n",
       "        s.onerror = () => reject(`Error loading script: ${paths[lib]}`);\n",
       "        document.getElementsByTagName(\"head\")[0].appendChild(s);\n",
       "      });\n",
       "    }\n",
       "\n",
       "    function showError(err) {\n",
       "      outputDiv.innerHTML = `<div class=\"error\" style=\"color:red;\">${err}</div>`;\n",
       "      throw err;\n",
       "    }\n",
       "\n",
       "    function displayChart(vegaEmbed) {\n",
       "      vegaEmbed(outputDiv, spec, embedOpt)\n",
       "        .catch(err => showError(`Javascript Error: ${err.message}<br>This usually means there's a typo in your chart specification. See the javascript console for the full traceback.`));\n",
       "    }\n",
       "\n",
       "    if(typeof define === \"function\" && define.amd) {\n",
       "      requirejs.config({paths});\n",
       "      require([\"vega-embed\"], displayChart, err => showError(`Error loading script: ${err.message}`));\n",
       "    } else if (typeof vegaEmbed === \"function\") {\n",
       "      displayChart(vegaEmbed);\n",
       "    } else {\n",
       "      loadScript(\"vega\")\n",
       "        .then(() => loadScript(\"vega-lite\"))\n",
       "        .then(() => loadScript(\"vega-embed\"))\n",
       "        .catch(showError)\n",
       "        .then(() => displayChart(vegaEmbed));\n",
       "    }\n",
       "  })({\"config\": {\"view\": {\"continuousWidth\": 400, \"continuousHeight\": 300}}, \"data\": {\"name\": \"data-18b530d2bedb6a61b9871a79d9d5e286\"}, \"mark\": {\"type\": \"circle\", \"size\": 60}, \"encoding\": {\"color\": {\"type\": \"quantitative\", \"field\": \"class\"}, \"tooltip\": [{\"type\": \"nominal\", \"field\": \"CoinName\"}, {\"type\": \"nominal\", \"field\": \"Algorithm\"}, {\"type\": \"quantitative\", \"field\": \"TotalCoinsMined\"}, {\"type\": \"quantitative\", \"field\": \"MaxSupply\"}], \"x\": {\"type\": \"quantitative\", \"field\": \"PC 1\"}, \"y\": {\"type\": \"quantitative\", \"field\": \"PC 2\"}}, \"selection\": {\"selector002\": {\"type\": \"interval\", \"bind\": \"scales\", \"encodings\": [\"x\", \"y\"]}}, \"$schema\": \"https://vega.github.io/schema/vega-lite/v4.8.1.json\", \"datasets\": {\"data-18b530d2bedb6a61b9871a79d9d5e286\": [{\"Algorithm\": \"Scrypt\", \"ProofType\": \"PoW/PoS\", \"TotalCoinsMined\": 3079313.367404, \"MaxSupply\": -1, \"CoinName\": \"NovaCoin\", \"PC 1\": -0.37353601841797, \"PC 2\": 1.2324085631094632, \"PC 3\": -1.6936900897279885, \"class\": 3}, {\"Algorithm\": \"SHA-256\", \"ProofType\": \"PoW\", \"TotalCoinsMined\": 2615222.6421785, \"MaxSupply\": -1, \"CoinName\": \"CounterParty\", \"PC 1\": -0.4764759978770798, \"PC 2\": -1.6253468177281254, \"PC 3\": 0.03108842247947385, \"class\": 1}, {\"Algorithm\": \"PoS\", \"ProofType\": \"PoS\", \"TotalCoinsMined\": 5849666595.0493, \"MaxSupply\": 0, \"CoinName\": \"NuShares\", \"PC 1\": -0.16633587684517426, \"PC 2\": 1.1032175384021035, \"PC 3\": 1.0461757041325956, \"class\": 0}, {\"Algorithm\": \"Scrypt\", \"ProofType\": \"PoW\", \"TotalCoinsMined\": 80001612.47157931, \"MaxSupply\": -1, \"CoinName\": \"MonaCoin\", \"PC 1\": -0.4509675563892481, \"PC 2\": -0.8702120232749622, \"PC 3\": -0.5268560353911848, \"class\": 1}, {\"Algorithm\": \"X13\", \"ProofType\": \"PoW/PoS\", \"TotalCoinsMined\": 166244.399979, \"MaxSupply\": 0, \"CoinName\": \"Triangles Coin\", \"PC 1\": -0.35082697001580415, \"PC 2\": 2.0574305815601788, \"PC 3\": -2.196085944939032, \"class\": 3}, {\"Algorithm\": \"SHA-256\", \"ProofType\": \"PoW/PoS\", \"TotalCoinsMined\": 46734543.009848, \"MaxSupply\": -1, \"CoinName\": \"Emercoin\", \"PC 1\": -0.3984215833200883, \"PC 2\": 0.4771892138050027, \"PC 3\": -1.135794163111382, \"class\": 3}, {\"Algorithm\": \"Scrypt\", \"ProofType\": \"PoW\", \"TotalCoinsMined\": 872830, \"MaxSupply\": 0, \"CoinName\": \"CometCoin\", \"PC 1\": -0.45137475075299355, \"PC 2\": -0.8701567470618005, \"PC 3\": -0.5268243089567627, \"class\": 1}, {\"Algorithm\": \"X11\", \"ProofType\": \"TPoS\", \"TotalCoinsMined\": 115866130.05218801, \"MaxSupply\": -1, \"CoinName\": \"Stakenet\", \"PC 1\": -0.30842562474714713, \"PC 2\": 1.0184109972469004, \"PC 3\": -0.49179354604856446, \"class\": 3}, {\"Algorithm\": \"Scrypt\", \"ProofType\": \"PoW/PoS\", \"TotalCoinsMined\": 1000000000, \"MaxSupply\": 1000000000, \"CoinName\": \"OpenChat\", \"PC 1\": -0.3632002271373747, \"PC 2\": 1.2310856192911743, \"PC 3\": -1.694441017211333, \"class\": 3}, {\"Algorithm\": \"Dagger\", \"ProofType\": \"PoA\", \"TotalCoinsMined\": 629817461, \"MaxSupply\": -1, \"CoinName\": \"Amber\", \"PC 1\": -0.2629803312391524, \"PC 2\": 1.9205844887856636, \"PC 3\": 4.49635060206136, \"class\": 0}, {\"Algorithm\": \"X11\", \"ProofType\": \"PoW\", \"TotalCoinsMined\": 187764999.55969808, \"MaxSupply\": -1, \"CoinName\": \"Pura\", \"PC 1\": -0.4272142494131266, \"PC 2\": -0.6393014236038832, \"PC 3\": -0.25891302240389397, \"class\": 1}, {\"Algorithm\": \"Equihash\", \"ProofType\": \"PoW\", \"TotalCoinsMined\": 3818878.3878015447, \"MaxSupply\": 22873588, \"CoinName\": \"Bitcoin Private\", \"PC 1\": -0.46139224734895806, \"PC 2\": -1.618240094267174, \"PC 3\": 0.19435430182484859, \"class\": 1}, {\"Algorithm\": \"SHA-512\", \"ProofType\": \"Zero-Knowledge Proof\", \"TotalCoinsMined\": 1000000000, \"MaxSupply\": 1000000000, \"CoinName\": \"Kcash\", \"PC 1\": -0.20937933545100976, \"PC 2\": 1.7914641871980868, \"PC 3\": 1.5633953618852499, \"class\": 0}, {\"Algorithm\": \"Equihash\", \"ProofType\": \"PoW\", \"TotalCoinsMined\": 62022661.8499698, \"MaxSupply\": 263392146, \"CoinName\": \"Beam\", \"PC 1\": -0.4598406728905773, \"PC 2\": -1.6184314463471114, \"PC 3\": 0.19424649140697337, \"class\": 1}, {\"Algorithm\": \"SPoS\", \"ProofType\": \"SPoS\", \"TotalCoinsMined\": 5723626706, \"MaxSupply\": -1, \"CoinName\": \"V Systems\", \"PC 1\": -0.1909254377775028, \"PC 2\": 1.834095200038396, \"PC 3\": 3.4395790145886833, \"class\": 0}, {\"Algorithm\": \"CryptoNight\", \"ProofType\": \"PoW\", \"TotalCoinsMined\": 1400222610, \"MaxSupply\": -1, \"CoinName\": \"Beldex\", \"PC 1\": -0.017844845141237794, \"PC 2\": -1.781311659726038, \"PC 3\": 0.08403282507293015, \"class\": 1}, {\"Algorithm\": \"Eaglesong\", \"ProofType\": \"PoW\", \"TotalCoinsMined\": 30198608473.084084, \"MaxSupply\": -1, \"CoinName\": \"Nervos Network\", \"PC 1\": -0.23372733438845292, \"PC 2\": -1.7101163806821147, \"PC 3\": 0.12720241979002275, \"class\": 1}, {\"Algorithm\": \"C31\", \"ProofType\": \"PoW\", \"TotalCoinsMined\": 10680591.0569404, \"MaxSupply\": 20000000, \"CoinName\": \"MimbleWimbleCoin\", \"PC 1\": -0.4606488032640231, \"PC 2\": -1.6865543473009101, \"PC 3\": 0.15235568357266968, \"class\": 1}, {\"Algorithm\": \"SHA-256\", \"ProofType\": \"PoW\", \"TotalCoinsMined\": 63669492.15103281, \"MaxSupply\": 66000000, \"CoinName\": \"Arweave\", \"PC 1\": -0.47581824039054654, \"PC 2\": -1.6254308191021558, \"PC 3\": 0.031040762753924277, \"class\": 1}, {\"Algorithm\": \"Scrypt\", \"ProofType\": \"PoW/PoS\", \"TotalCoinsMined\": 450074577.54561585, \"MaxSupply\": -1, \"CoinName\": \"Buxcoin\", \"PC 1\": -0.37123579403898044, \"PC 2\": 1.2320963100327271, \"PC 3\": -1.6938693110637677, \"class\": 3}, {\"Algorithm\": \"ECC 256K1\", \"ProofType\": \"DPOS\", \"TotalCoinsMined\": 1000000000, \"MaxSupply\": 1000000000, \"CoinName\": \"Acute Angle Cloud\", \"PC 1\": -0.13306266439518544, \"PC 2\": 0.46201102669454197, \"PC 3\": 0.16329597651446015, \"class\": 1}, {\"Algorithm\": \"Scrypt\", \"ProofType\": \"PoW\", \"TotalCoinsMined\": 100000000, \"MaxSupply\": 100000000, \"CoinName\": \"Primas\", \"PC 1\": -0.45034407857722963, \"PC 2\": -0.8702886468278729, \"PC 3\": -0.5268991752107317, \"class\": 1}, {\"Algorithm\": \"BLAKE256\", \"ProofType\": \"PoW/PoS\", \"TotalCoinsMined\": 44941237.137052, \"MaxSupply\": 84000000, \"CoinName\": \"HyperCash\", \"PC 1\": -0.34682810520744994, \"PC 2\": 2.023539381231609, \"PC 3\": -2.1501546718924147, \"class\": 3}, {\"Algorithm\": \"CryptoNight-Heavy\", \"ProofType\": \"PoW\", \"TotalCoinsMined\": 51809652, \"MaxSupply\": -1, \"CoinName\": \"Loki\", \"PC 1\": -0.45835115805161886, \"PC 2\": -1.6732488205941412, \"PC 3\": 0.150813687155847, \"class\": 1}, {\"Algorithm\": \"CryptoNight-Lite\", \"ProofType\": \"PoW\", \"TotalCoinsMined\": 17723197.5356104, \"MaxSupply\": -1, \"CoinName\": \"AEON\", \"PC 1\": -0.4586051362528321, \"PC 2\": -1.673207135093284, \"PC 3\": 0.15084038400000674, \"class\": 1}, {\"Algorithm\": \"SHA-256\", \"ProofType\": \"PoW\", \"TotalCoinsMined\": 10033624.99999976, \"MaxSupply\": 21000000, \"CoinName\": \"Bitcoin Vault\", \"PC 1\": -0.4763285039867904, \"PC 2\": -1.6253651571588967, \"PC 3\": 0.031078072573089203, \"class\": 1}, {\"Algorithm\": \"SHA-256\", \"ProofType\": \"PoW\", \"TotalCoinsMined\": 18595939.64678973, \"MaxSupply\": 20999999.9769, \"CoinName\": \"Bitcoin ABC\", \"PC 1\": -0.47628444256955477, \"PC 2\": -1.6253711384506477, \"PC 3\": 0.03107463954015235, \"class\": 1}, {\"Algorithm\": \"Scrypt\", \"ProofType\": \"PoW\", \"TotalCoinsMined\": 127465896383.70462, \"MaxSupply\": -1, \"CoinName\": \"Dogecoin\", \"PC 1\": 0.20455648194939885, \"PC 2\": -0.9591987324479995, \"PC 3\": -0.5779310065363347, \"class\": 1}, {\"Algorithm\": \"Scrypt\", \"ProofType\": \"PoS\", \"TotalCoinsMined\": 60373387.84647821, \"MaxSupply\": 100000000, \"CoinName\": \"BlackCoin\", \"PC 1\": -0.24299659762652714, \"PC 2\": 1.0442084295966707, \"PC 3\": 0.02468033673262577, \"class\": 3}, {\"Algorithm\": \"Scrypt\", \"ProofType\": \"PoW/PoS\", \"TotalCoinsMined\": 18998987.49295899, \"MaxSupply\": 21000000, \"CoinName\": \"Auroracoin\", \"PC 1\": -0.37334477723517245, \"PC 2\": 1.23238428502905, \"PC 3\": -1.6937038481923699, \"class\": 3}, {\"Algorithm\": \"TRC10\", \"ProofType\": \"DPoS\", \"TotalCoinsMined\": 989988668456.5421, \"MaxSupply\": 990000000000, \"CoinName\": \"BitTorrent\", \"PC 1\": 16.7263181067378, \"PC 2\": -1.2260351605442494, \"PC 3\": -0.871930458048147, \"class\": 2}, {\"Algorithm\": \"Multiple\", \"ProofType\": \"PoW\", \"TotalCoinsMined\": 13857492078.681028, \"MaxSupply\": 21000000000, \"CoinName\": \"DigiByte\", \"PC 1\": -0.20041270737556785, \"PC 2\": -1.7264263990702273, \"PC 3\": 0.1271292676713257, \"class\": 1}, {\"Algorithm\": \"KECCAK\", \"ProofType\": \"PoW\", \"TotalCoinsMined\": 2578152585.068615, \"MaxSupply\": 5000000000, \"CoinName\": \"SmartCash\", \"PC 1\": -0.40184018806201716, \"PC 2\": -1.681822588650615, \"PC 3\": 0.14540470996026403, \"class\": 1}, {\"Algorithm\": \"CryptoNight\", \"ProofType\": \"PoW\", \"TotalCoinsMined\": 184467440737.09552, \"MaxSupply\": 184470000000, \"CoinName\": \"ByteCoin\", \"PC 1\": 1.884503019323142, \"PC 2\": -2.0247719890211924, \"PC 3\": -0.05415608098015759, \"class\": 1}, {\"Algorithm\": \"SHA-256\", \"ProofType\": \"PoW\", \"TotalCoinsMined\": 18603620.89678972, \"MaxSupply\": 20999999.9769, \"CoinName\": \"Bitcoin Cash\", \"PC 1\": -0.47628440304206987, \"PC 2\": -1.6253711438164615, \"PC 3\": 0.031074636460379584, \"class\": 1}, {\"Algorithm\": \"Loopchain\", \"ProofType\": \"PoS\", \"TotalCoinsMined\": 869280626.7517536, \"MaxSupply\": -1, \"CoinName\": \"ICON Project\", \"PC 1\": -0.1517404465904368, \"PC 2\": 1.6773177861878927, \"PC 3\": 1.2275981284033035, \"class\": 0}, {\"Algorithm\": \"IMesh\", \"ProofType\": \"DPoS+dBFT\", \"TotalCoinsMined\": 459938115.57005167, \"MaxSupply\": 1000000000, \"CoinName\": \"INT\", \"PC 1\": -0.24831356996470155, \"PC 2\": 1.8555121176399743, \"PC 3\": 3.51332471428693, \"class\": 0}, {\"Algorithm\": \"C31\", \"ProofType\": \"PoW\", \"TotalCoinsMined\": 56704349.473499976, \"MaxSupply\": -1, \"CoinName\": \"Grin\", \"PC 1\": -0.46051607971220176, \"PC 2\": -1.6865739669684987, \"PC 3\": 0.15234425479862462, \"class\": 1}, {\"Algorithm\": \"DPoS\", \"ProofType\": \"PoS\", \"TotalCoinsMined\": 167640203.41, \"MaxSupply\": -1, \"CoinName\": \"Rise\", \"PC 1\": 0.41018968939483136, \"PC 2\": 1.5112372812928627, \"PC 3\": 1.0035934189297717, \"class\": 0}, {\"Algorithm\": \"X11\", \"ProofType\": \"PoW/PoS\", \"TotalCoinsMined\": 18581558.97434563, \"MaxSupply\": 22000000, \"CoinName\": \"IOCoin\", \"PC 1\": -0.3501429598623395, \"PC 2\": 1.4633698289716486, \"PC 3\": -1.425717811664903, \"class\": 3}, {\"Algorithm\": \"Scrypt\", \"ProofType\": \"PoW/PoS\", \"TotalCoinsMined\": 902979710, \"MaxSupply\": 1000000000, \"CoinName\": \"WhiteCoin\", \"PC 1\": -0.36369949067370105, \"PC 2\": 1.2311533937990637, \"PC 3\": -1.6944021172332697, \"class\": 3}, {\"Algorithm\": \"Equihash\", \"ProofType\": \"PoW\", \"TotalCoinsMined\": 10561000, \"MaxSupply\": 21000000, \"CoinName\": \"Horizen\", \"PC 1\": -0.46136730586617575, \"PC 2\": -1.6182436301766243, \"PC 3\": 0.1943522566252912, \"class\": 1}, {\"Algorithm\": \"X13\", \"ProofType\": \"PoW/PoS\", \"TotalCoinsMined\": 70522520.90771085, \"MaxSupply\": -1, \"CoinName\": \"NavCoin\", \"PC 1\": -0.35046491870770224, \"PC 2\": 2.0573814334700558, \"PC 3\": -2.196114154064963, \"class\": 3}, {\"Algorithm\": \"SHA3\", \"ProofType\": \"PoW/nPoS\", \"TotalCoinsMined\": 69083767.402124, \"MaxSupply\": 78000000, \"CoinName\": \"Nexus\", \"PC 1\": -0.2661768108310237, \"PC 2\": 1.8614847673286472, \"PC 3\": 3.53346813490468, \"class\": 0}, {\"Algorithm\": \"Equihash\", \"ProofType\": \"PoW\", \"TotalCoinsMined\": 10604797.77545856, \"MaxSupply\": 21000000, \"CoinName\": \"ZCash\", \"PC 1\": -0.4613670804841216, \"PC 2\": -1.6182436607720045, \"PC 3\": 0.1943522390647117, \"class\": 1}, {\"Algorithm\": \"Lyra2REv2\", \"ProofType\": \"PoW\", \"TotalCoinsMined\": 57897148.81663466, \"MaxSupply\": 84000000, \"CoinName\": \"Vertcoin\", \"PC 1\": -0.4576726553645949, \"PC 2\": -1.673348400036301, \"PC 3\": 0.1507512899799612, \"class\": 1}, {\"Algorithm\": \"RandomX\", \"ProofType\": \"PoW\", \"TotalCoinsMined\": 17790008.8139444, \"MaxSupply\": -1, \"CoinName\": \"Monero\", \"PC 1\": -0.4586046384419404, \"PC 2\": -1.6732072167990997, \"PC 3\": 0.15084033167276323, \"class\": 1}, {\"Algorithm\": \"BLAKE256\", \"ProofType\": \"PoW/PoS\", \"TotalCoinsMined\": 12385395.81761933, \"MaxSupply\": 21000000, \"CoinName\": \"Decred\", \"PC 1\": -0.3473235936211825, \"PC 2\": 2.0236015951345983, \"PC 3\": -2.150119492167628, \"class\": 3}, {\"Algorithm\": \"PoS\", \"ProofType\": \"PoW\", \"TotalCoinsMined\": 373182076.363, \"MaxSupply\": -1, \"CoinName\": \"Steem\", \"PC 1\": -0.40206910216396186, \"PC 2\": -0.8074262026282232, \"PC 3\": 0.4968078594809108, \"class\": 1}, {\"Algorithm\": \"BEP2 Token\", \"ProofType\": \"PoSA\", \"TotalCoinsMined\": 174153539.9, \"MaxSupply\": 174153539.9, \"CoinName\": \"Binance Coin\", \"PC 1\": -0.14544081300728182, \"PC 2\": 0.46392680691328103, \"PC 3\": 0.16450937117640327, \"class\": 1}, {\"Algorithm\": \"SHA-256\", \"ProofType\": \"PoW\", \"TotalCoinsMined\": 18601732.89423905, \"MaxSupply\": 20999999.9769, \"CoinName\": \"Bitcoin SV\", \"PC 1\": -0.4762844127576752, \"PC 2\": -1.62537114249758, \"PC 3\": 0.03107463721736817, \"class\": 1}, {\"Algorithm\": \"Quark\", \"ProofType\": \"PoW/PoS\", \"TotalCoinsMined\": 267724189.23792997, \"MaxSupply\": -1, \"CoinName\": \"QuarkCoin\", \"PC 1\": -0.3477820708164256, \"PC 2\": 2.0400221969519077, \"PC 3\": -2.172715135332335, \"class\": 3}, {\"Algorithm\": \"Ethash\", \"ProofType\": \"PoW\", \"TotalCoinsMined\": 34700351.97, \"MaxSupply\": 100000000, \"CoinName\": \"Expanse\", \"PC 1\": -0.4619872350619785, \"PC 2\": -1.7005289723379593, \"PC 3\": 0.15385634911902524, \"class\": 1}, {\"Algorithm\": \"Scrypt\", \"ProofType\": \"PoW\", \"TotalCoinsMined\": 39335231.55559965, \"MaxSupply\": 42000000, \"CoinName\": \"MegaCoin\", \"PC 1\": -0.4509581863618324, \"PC 2\": -0.8702099298224527, \"PC 3\": -0.5268544813770738, \"class\": 1}, {\"Algorithm\": \"Scrypt\", \"ProofType\": \"PoW/PoS\", \"TotalCoinsMined\": 1032143.27022698, \"MaxSupply\": -1, \"CoinName\": \"SaluS\", \"PC 1\": -0.37354655309460605, \"PC 2\": 1.2324099931809038, \"PC 3\": -1.6936892689216207, \"class\": 3}, {\"Algorithm\": \"Scrypt\", \"ProofType\": \"PoW/PoS\", \"TotalCoinsMined\": 225280468.27894995, \"MaxSupply\": 420000000, \"CoinName\": \"PotCoin\", \"PC 1\": -0.37020619772726254, \"PC 2\": 1.2319901976394536, \"PC 3\": -1.6939266909997788, \"class\": 3}, {\"Algorithm\": \"Scrypt\", \"ProofType\": \"PoW\", \"TotalCoinsMined\": 525631263.0022579, \"MaxSupply\": 1680000000, \"CoinName\": \"Gulden\", \"PC 1\": -0.43992883889587475, \"PC 2\": -0.8715759007822579, \"PC 3\": -0.5276247508767262, \"class\": 1}, {\"Algorithm\": \"X13\", \"ProofType\": \"PoW/PoS\", \"TotalCoinsMined\": 198933937.5, \"MaxSupply\": 210000000, \"CoinName\": \"Bitcoin Diamond\", \"PC 1\": -0.3487109272947007, \"PC 2\": 2.057160158072435, \"PC 3\": -2.1962393954271726, \"class\": 3}, {\"Algorithm\": \"SHA-256\", \"ProofType\": \"PoW\", \"TotalCoinsMined\": 17220537.5, \"MaxSupply\": -1, \"CoinName\": \"Namecoin\", \"PC 1\": -0.4764008393597723, \"PC 2\": -1.6253570204189962, \"PC 3\": 0.031082566524729172, \"class\": 1}, {\"Algorithm\": \"Scrypt\", \"ProofType\": \"PoW\", \"TotalCoinsMined\": 221040950.49999923, \"MaxSupply\": -1, \"CoinName\": \"Einsteinium\", \"PC 1\": -0.4502417721366427, \"PC 2\": -0.8703105477354419, \"PC 3\": -0.5269125846671708, \"class\": 1}, {\"Algorithm\": \"Dagger-Hashimoto\", \"ProofType\": \"PoW\", \"TotalCoinsMined\": 49695484.9477163, \"MaxSupply\": -1, \"CoinName\": \"Ubiq\", \"PC 1\": -0.45836691071212404, \"PC 2\": -1.6732462351063342, \"PC 3\": 0.15081534299214677, \"class\": 1}, {\"Algorithm\": \"Scrypt\", \"ProofType\": \"PoW/PoS\", \"TotalCoinsMined\": 29867901469.380486, \"MaxSupply\": -1, \"CoinName\": \"Reddcoin\", \"PC 1\": -0.21985252889872037, \"PC 2\": 1.2115461886018755, \"PC 3\": -1.7056642956054344, \"class\": 3}, {\"Algorithm\": \"X11GOST\", \"ProofType\": \"PoW\", \"TotalCoinsMined\": 18863946.83839601, \"MaxSupply\": 21000000, \"CoinName\": \"SibCoin\", \"PC 1\": -0.45843835033738733, \"PC 2\": -1.6732315638638582, \"PC 3\": 0.15082508320626747, \"class\": 1}, {\"Algorithm\": \"Equihash\", \"ProofType\": \"PoW\", \"TotalCoinsMined\": 18593929.86088509, \"MaxSupply\": 21000000, \"CoinName\": \"Bitcoin Gold\", \"PC 1\": -0.461325968647235, \"PC 2\": -1.6182492416612761, \"PC 3\": 0.19434903584749855, \"class\": 1}, {\"Algorithm\": \"Groestl\", \"ProofType\": \"PoW\", \"TotalCoinsMined\": 76545928.8873888, \"MaxSupply\": 105000000, \"CoinName\": \"Groestlcoin\", \"PC 1\": -0.4573754171045408, \"PC 2\": -1.6733942399804849, \"PC 3\": 0.15072227672615754, \"class\": 1}, {\"Algorithm\": \"BMW512 / Echo512\", \"ProofType\": \"PoW/PoS\", \"TotalCoinsMined\": 5091623785.66436, \"MaxSupply\": -1, \"CoinName\": \"DigitalNote \", \"PC 1\": -0.3081109640664832, \"PC 2\": 2.0014469962233683, \"PC 3\": -2.1324880879576975, \"class\": 3}, {\"Algorithm\": \"Scrypt\", \"ProofType\": \"PoW\", \"TotalCoinsMined\": 23172530.11259503, \"MaxSupply\": -1, \"CoinName\": \"ViaCoin\", \"PC 1\": -0.4512599971624589, \"PC 2\": -0.8701723247429256, \"PC 3\": -0.5268332499505604, \"class\": 1}, {\"Algorithm\": \"SHA-256\", \"ProofType\": \"PoW\", \"TotalCoinsMined\": 602501920.5570501, \"MaxSupply\": 888000000, \"CoinName\": \"SysCoin\", \"PC 1\": -0.46876636643407893, \"PC 2\": -1.6263222375326478, \"PC 3\": 0.030536020629235695, \"class\": 1}, {\"Algorithm\": \"NeoScrypt\", \"ProofType\": \"PoW\", \"TotalCoinsMined\": 234846798.00773007, \"MaxSupply\": 336000000, \"CoinName\": \"FeatherCoin\", \"PC 1\": -0.454454769171353, \"PC 2\": -1.673841202359276, \"PC 3\": 0.15043981312126592, \"class\": 1}, {\"Algorithm\": \"X13\", \"ProofType\": \"PoW/PoS\", \"TotalCoinsMined\": 5560403.0317812, \"MaxSupply\": -1, \"CoinName\": \"CloakCoin\", \"PC 1\": -0.35079921184059204, \"PC 2\": 2.057426813416565, \"PC 3\": -2.1960881077095022, \"class\": 3}, {\"Algorithm\": \"DPoS\", \"ProofType\": \"DPoS\", \"TotalCoinsMined\": 1000000000, \"MaxSupply\": 0, \"CoinName\": \"Achain\", \"PC 1\": 1.8275712037622647, \"PC 2\": 1.1634420225324855, \"PC 3\": 0.6727401166068911, \"class\": 0}, {\"Algorithm\": \"Multiple\", \"ProofType\": \"PoW\", \"TotalCoinsMined\": 16405887343.363379, \"MaxSupply\": 16555000000, \"CoinName\": \"Verge\", \"PC 1\": -0.21043793058664786, \"PC 2\": -1.7254216594381742, \"PC 3\": 0.12766864862521826, \"class\": 1}, {\"Algorithm\": \"Shabal256\", \"ProofType\": \"PoC\", \"TotalCoinsMined\": 2111329988, \"MaxSupply\": 2158812800, \"CoinName\": \"BurstCoin\", \"PC 1\": -0.21020432399648378, \"PC 2\": 1.8423154730781899, \"PC 3\": 3.4685085912199467, \"class\": 0}, {\"Algorithm\": \"Blake2b\", \"ProofType\": \"PoW\", \"TotalCoinsMined\": 45189952992, \"MaxSupply\": -1, \"CoinName\": \"Siacoin\", \"PC 1\": -0.17517092015659205, \"PC 2\": -1.73021527333297, \"PC 3\": 0.1253993952849702, \"class\": 1}, {\"Algorithm\": \"Proof-of-Authority\", \"ProofType\": \"PoA\", \"TotalCoinsMined\": 282636640.72088844, \"MaxSupply\": -1, \"CoinName\": \"Poa Network\", \"PC 1\": -0.2655671758264128, \"PC 2\": 1.9210090681855883, \"PC 3\": 4.496622517471694, \"class\": 0}, {\"Algorithm\": \"Tensority\", \"ProofType\": \"PoW\", \"TotalCoinsMined\": 1642578337.5, \"MaxSupply\": 210000000, \"CoinName\": \"Bytom\", \"PC 1\": -0.44491547737626413, \"PC 2\": -1.6754245635668978, \"PC 3\": 0.14942370810857525, \"class\": 1}, {\"Algorithm\": \"Quark\", \"ProofType\": \"PoW/PoS\", \"TotalCoinsMined\": 7358469.86531109, \"MaxSupply\": -1, \"CoinName\": \"BlockNet\", \"PC 1\": -0.34912190509018587, \"PC 2\": 2.04020407806669, \"PC 3\": -2.1726107425215924, \"class\": 3}, {\"Algorithm\": \"PoS\", \"ProofType\": \"PoS/LPoS\", \"TotalCoinsMined\": 998999927.9376907, \"MaxSupply\": 1000000000, \"CoinName\": \"Nxt\", \"PC 1\": -0.25928110605595356, \"PC 2\": 0.7221332061368011, \"PC 3\": 0.9831995264132826, \"class\": 0}, {\"Algorithm\": \"Equihash210,9\", \"ProofType\": \"PoW/PoS\", \"TotalCoinsMined\": 487496874, \"MaxSupply\": -1, \"CoinName\": \"Aion\", \"PC 1\": -0.3424163176022363, \"PC 2\": 2.007077541827104, \"PC 3\": -2.1288820907789376, \"class\": 3}, {\"Algorithm\": \"DPoS\", \"ProofType\": \"DPoS\", \"TotalCoinsMined\": 14421735, \"MaxSupply\": -1, \"CoinName\": \"Shift\", \"PC 1\": 1.8224994472212825, \"PC 2\": 1.164130508229211, \"PC 3\": 0.6731352810917915, \"class\": 0}, {\"Algorithm\": \"VeChainThor Authority\", \"ProofType\": \"Proof of Authority\", \"TotalCoinsMined\": 85985041177, \"MaxSupply\": 86712634466, \"CoinName\": \"VeChain\", \"PC 1\": 2.0762094358601724, \"PC 2\": 1.0590207663700753, \"PC 3\": 0.8139689667691401, \"class\": 0}, {\"Algorithm\": \"POS 3.0\", \"ProofType\": \"PoS\", \"TotalCoinsMined\": 103005320, \"MaxSupply\": 107822402.25, \"CoinName\": \"QTUM\", \"PC 1\": -0.1566372599459311, \"PC 2\": 1.6781366264176028, \"PC 3\": 1.2281243096249739, \"class\": 0}, {\"Algorithm\": \"Quark\", \"ProofType\": \"PoW/PoS\", \"TotalCoinsMined\": 848910.26421023, \"MaxSupply\": -1, \"CoinName\": \"Private Instant Verified Transaction\", \"PC 1\": -0.3491554030909275, \"PC 2\": 2.0402086253855907, \"PC 3\": -2.1726081325342834, \"class\": 3}, {\"Algorithm\": \"Blake2b\", \"ProofType\": \"PoW\", \"TotalCoinsMined\": 133248290, \"MaxSupply\": 133248290, \"CoinName\": \"Nano\", \"PC 1\": -0.40633774069025563, \"PC 2\": -1.6988239398309275, \"PC 3\": 0.14341793952739773, \"class\": 1}, {\"Algorithm\": \"VBFT\", \"ProofType\": \"PoS\", \"TotalCoinsMined\": 1000000000, \"MaxSupply\": -1, \"CoinName\": \"Ontology\", \"PC 1\": -0.15076645642915495, \"PC 2\": 1.6771579249576376, \"PC 3\": 1.2274957477130695, \"class\": 0}, {\"Algorithm\": \"DPoS\", \"ProofType\": \"DPoS\", \"TotalCoinsMined\": 142707060, \"MaxSupply\": -1, \"CoinName\": \"Lisk\", \"PC 1\": 1.8231595997009171, \"PC 2\": 1.1640408932139268, \"PC 3\": 0.6730838454969443, \"class\": 0}, {\"Algorithm\": \"X11\", \"ProofType\": \"PoW/PoSe\", \"TotalCoinsMined\": 9878820.41999222, \"MaxSupply\": 18900000, \"CoinName\": \"Dash\", \"PC 1\": -0.3090728787083543, \"PC 2\": 1.0185198824453936, \"PC 3\": -0.4917235023652201, \"class\": 3}, {\"Algorithm\": \"Ethash\", \"ProofType\": \"PoW\", \"TotalCoinsMined\": 123841307.65988705, \"MaxSupply\": 210700000, \"CoinName\": \"Ethereum Classic\", \"PC 1\": -0.46095225101240594, \"PC 2\": -1.70066060005462, \"PC 3\": 0.15378172880245533, \"class\": 1}, {\"Algorithm\": \"DPoS\", \"ProofType\": \"DPoS\", \"TotalCoinsMined\": 154119450.00000003, \"MaxSupply\": -1, \"CoinName\": \"ARK\", \"PC 1\": 1.823218327521554, \"PC 2\": 1.1640329209731095, \"PC 3\": 0.673079269735311, \"class\": 0}, {\"Algorithm\": \"Scrypt\", \"ProofType\": \"PoW\", \"TotalCoinsMined\": 66592195.73347135, \"MaxSupply\": 84000000, \"CoinName\": \"Litecoin\", \"PC 1\": -0.4505992848192495, \"PC 2\": -0.8702552849111423, \"PC 3\": -0.5268801610127491, \"class\": 1}, {\"Algorithm\": \"Equihash\", \"ProofType\": \"dPoW/PoW\", \"TotalCoinsMined\": 125213803.89359555, \"MaxSupply\": 200000000, \"CoinName\": \"Komodo\", \"PC 1\": -0.35513763522013764, \"PC 2\": -0.6957988945466634, \"PC 3\": 0.39334619002995946, \"class\": 1}, {\"Algorithm\": \"SHA-512\", \"ProofType\": \"PoS\", \"TotalCoinsMined\": 2994812996.43069, \"MaxSupply\": 3600570502, \"CoinName\": \"Bitshares\", \"PC 1\": -0.1278244108417221, \"PC 2\": 1.713775954094799, \"PC 3\": 1.3430745363613432, \"class\": 0}, {\"Algorithm\": \"SHA-256\", \"ProofType\": \"PoW\", \"TotalCoinsMined\": 18575475, \"MaxSupply\": 20999999.9769, \"CoinName\": \"Bitcoin\", \"PC 1\": -0.47628454788002045, \"PC 2\": -1.625371124154861, \"PC 3\": 0.031074647745387554, \"class\": 1}, {\"Algorithm\": \"Ethash\", \"ProofType\": \"PoW\", \"TotalCoinsMined\": 113898663.4365, \"MaxSupply\": -1, \"CoinName\": \"Ethereum\", \"PC 1\": -0.4621002496014988, \"PC 2\": -1.7005216436455184, \"PC 3\": 0.15385971633621393, \"class\": 1}, {\"Algorithm\": \"Leased POS\", \"ProofType\": \"LPoS\", \"TotalCoinsMined\": 103838704, \"MaxSupply\": -1, \"CoinName\": \"Waves\", \"PC 1\": -0.2667726783711574, \"PC 2\": 1.8616574194441426, \"PC 3\": 3.534032360549902, \"class\": 0}, {\"Algorithm\": \"Ouroboros\", \"ProofType\": \"PoS\", \"TotalCoinsMined\": 31782701358.152332, \"MaxSupply\": 45000000000, \"CoinName\": \"Cardano\", \"PC 1\": 0.4177801573326807, \"PC 2\": 1.5901547524172444, \"PC 3\": 1.172513548716837, \"class\": 0}, {\"Algorithm\": \"DPoS\", \"ProofType\": \"DPoS\", \"TotalCoinsMined\": 1025441876.4557, \"MaxSupply\": -1, \"CoinName\": \"EOS\", \"PC 1\": 1.8277021268991147, \"PC 2\": 1.163424249852196, \"PC 3\": 0.672729915767438, \"class\": 0}]}}, {\"mode\": \"vega-lite\"});\n",
       "</script>"
      ],
      "text/plain": [
       "alt.Chart(...)"
      ]
     },
     "execution_count": 24,
     "metadata": {},
     "output_type": "execute_result"
    }
   ],
   "source": [
    "# Create a 3D-Scatter with the PCA data and the clusters\n",
    "alt.Chart(clustered_df).mark_circle(size=60).encode(\n",
    "                   x='PC 1',\n",
    "                   y='PC 2',\n",
    "                    color='class',\n",
    "                   tooltip=['CoinName', 'Algorithm', 'TotalCoinsMined', 'MaxSupply']\n",
    ").interactive()"
   ]
  },
  {
   "cell_type": "markdown",
   "metadata": {},
   "source": [
    "#### Table of Tradable Cryptocurrencies"
   ]
  },
  {
   "cell_type": "code",
   "execution_count": 21,
   "metadata": {},
   "outputs": [
    {
     "data": {
      "text/html": [
       "<div>\n",
       "<style scoped>\n",
       "    .dataframe tbody tr th:only-of-type {\n",
       "        vertical-align: middle;\n",
       "    }\n",
       "\n",
       "    .dataframe tbody tr th {\n",
       "        vertical-align: top;\n",
       "    }\n",
       "\n",
       "    .dataframe thead th {\n",
       "        text-align: right;\n",
       "    }\n",
       "</style>\n",
       "<table border=\"1\" class=\"dataframe\">\n",
       "  <thead>\n",
       "    <tr style=\"text-align: right;\">\n",
       "      <th></th>\n",
       "      <th>Algorithm</th>\n",
       "      <th>ProofType</th>\n",
       "      <th>TotalCoinsMined</th>\n",
       "      <th>MaxSupply</th>\n",
       "      <th>CoinName</th>\n",
       "      <th>class</th>\n",
       "    </tr>\n",
       "  </thead>\n",
       "  <tbody>\n",
       "    <tr>\n",
       "      <th>NVC</th>\n",
       "      <td>Scrypt</td>\n",
       "      <td>PoW/PoS</td>\n",
       "      <td>3.07931e+06</td>\n",
       "      <td>-1</td>\n",
       "      <td>NovaCoin</td>\n",
       "      <td>3</td>\n",
       "    </tr>\n",
       "    <tr>\n",
       "      <th>XCP</th>\n",
       "      <td>SHA-256</td>\n",
       "      <td>PoW</td>\n",
       "      <td>2.61522e+06</td>\n",
       "      <td>-1</td>\n",
       "      <td>CounterParty</td>\n",
       "      <td>1</td>\n",
       "    </tr>\n",
       "    <tr>\n",
       "      <th>NSR</th>\n",
       "      <td>PoS</td>\n",
       "      <td>PoS</td>\n",
       "      <td>5.84967e+09</td>\n",
       "      <td>0</td>\n",
       "      <td>NuShares</td>\n",
       "      <td>0</td>\n",
       "    </tr>\n",
       "    <tr>\n",
       "      <th>MONA</th>\n",
       "      <td>Scrypt</td>\n",
       "      <td>PoW</td>\n",
       "      <td>8.00016e+07</td>\n",
       "      <td>-1</td>\n",
       "      <td>MonaCoin</td>\n",
       "      <td>1</td>\n",
       "    </tr>\n",
       "    <tr>\n",
       "      <th>TRI</th>\n",
       "      <td>X13</td>\n",
       "      <td>PoW/PoS</td>\n",
       "      <td>166244</td>\n",
       "      <td>0</td>\n",
       "      <td>Triangles Coin</td>\n",
       "      <td>3</td>\n",
       "    </tr>\n",
       "    <tr>\n",
       "      <th>...</th>\n",
       "      <td>...</td>\n",
       "      <td>...</td>\n",
       "      <td>...</td>\n",
       "      <td>...</td>\n",
       "      <td>...</td>\n",
       "      <td>...</td>\n",
       "    </tr>\n",
       "    <tr>\n",
       "      <th>BTC</th>\n",
       "      <td>SHA-256</td>\n",
       "      <td>PoW</td>\n",
       "      <td>18575475</td>\n",
       "      <td>2.1e+07</td>\n",
       "      <td>Bitcoin</td>\n",
       "      <td>1</td>\n",
       "    </tr>\n",
       "    <tr>\n",
       "      <th>ETH</th>\n",
       "      <td>Ethash</td>\n",
       "      <td>PoW</td>\n",
       "      <td>1.13899e+08</td>\n",
       "      <td>-1</td>\n",
       "      <td>Ethereum</td>\n",
       "      <td>1</td>\n",
       "    </tr>\n",
       "    <tr>\n",
       "      <th>WAVES</th>\n",
       "      <td>Leased POS</td>\n",
       "      <td>LPoS</td>\n",
       "      <td>103838704</td>\n",
       "      <td>-1</td>\n",
       "      <td>Waves</td>\n",
       "      <td>0</td>\n",
       "    </tr>\n",
       "    <tr>\n",
       "      <th>ADA</th>\n",
       "      <td>Ouroboros</td>\n",
       "      <td>PoS</td>\n",
       "      <td>3.17827e+10</td>\n",
       "      <td>45000000000</td>\n",
       "      <td>Cardano</td>\n",
       "      <td>0</td>\n",
       "    </tr>\n",
       "    <tr>\n",
       "      <th>EOS</th>\n",
       "      <td>DPoS</td>\n",
       "      <td>DPoS</td>\n",
       "      <td>1.02544e+09</td>\n",
       "      <td>-1</td>\n",
       "      <td>EOS</td>\n",
       "      <td>0</td>\n",
       "    </tr>\n",
       "  </tbody>\n",
       "</table>\n",
       "<p>97 rows × 6 columns</p>\n",
       "</div>"
      ],
      "text/plain": [
       "        Algorithm ProofType TotalCoinsMined    MaxSupply        CoinName  \\\n",
       "NVC        Scrypt   PoW/PoS     3.07931e+06           -1        NovaCoin   \n",
       "XCP       SHA-256       PoW     2.61522e+06           -1    CounterParty   \n",
       "NSR           PoS       PoS     5.84967e+09            0        NuShares   \n",
       "MONA       Scrypt       PoW     8.00016e+07           -1        MonaCoin   \n",
       "TRI           X13   PoW/PoS          166244            0  Triangles Coin   \n",
       "...           ...       ...             ...          ...             ...   \n",
       "BTC       SHA-256       PoW        18575475      2.1e+07         Bitcoin   \n",
       "ETH        Ethash       PoW     1.13899e+08           -1        Ethereum   \n",
       "WAVES  Leased POS      LPoS       103838704           -1           Waves   \n",
       "ADA     Ouroboros       PoS     3.17827e+10  45000000000         Cardano   \n",
       "EOS          DPoS      DPoS     1.02544e+09           -1             EOS   \n",
       "\n",
       "       class  \n",
       "NVC        3  \n",
       "XCP        1  \n",
       "NSR        0  \n",
       "MONA       1  \n",
       "TRI        3  \n",
       "...      ...  \n",
       "BTC        1  \n",
       "ETH        1  \n",
       "WAVES      0  \n",
       "ADA        0  \n",
       "EOS        0  \n",
       "\n",
       "[97 rows x 6 columns]"
      ]
     },
     "metadata": {},
     "output_type": "display_data"
    }
   ],
   "source": [
    "# Table with tradable cryptos\n",
    "clustered_df_no_pc = clustered_df.drop(columns=['PC 1', 'PC 2', 'PC 3'])\n",
    "display(clustered_df_no_pc)"
   ]
  },
  {
   "cell_type": "code",
   "execution_count": 22,
   "metadata": {},
   "outputs": [
    {
     "name": "stdout",
     "output_type": "stream",
     "text": [
      "The total number of tradable cryptocurrenices is: 97\n"
     ]
    }
   ],
   "source": [
    "# Print the total number of tradable cryptocurrencies\n",
    "print(f'The total number of tradable cryptocurrenices is: {len(clustered_df_no_pc)}')"
   ]
  },
  {
   "cell_type": "markdown",
   "metadata": {},
   "source": [
    "#### Scatter Plot with Tradable Cryptocurrencies"
   ]
  },
  {
   "cell_type": "code",
   "execution_count": 25,
   "metadata": {},
   "outputs": [],
   "source": [
    "# Scale data to create the scatter plot\n",
    "scaler = MinMaxScaler()\n",
    "\n",
    "normalize_columns = ['TotalCoinsMined', 'MaxSupply']\n",
    "x = crypto_df[normalize_columns].values\n",
    "x_scaled = scaler.fit_transform(x)\n",
    "\n",
    "df_tradable = pd.DataFrame(x_scaled, columns=normalize_columns, index=crypto_df.index).reset_index()\n"
   ]
  },
  {
   "cell_type": "code",
   "execution_count": 26,
   "metadata": {},
   "outputs": [
    {
     "data": {
      "text/html": [
       "\n",
       "<div id=\"altair-viz-07d3891a1b634420b5a9fa62fa4bcb8e\"></div>\n",
       "<script type=\"text/javascript\">\n",
       "  (function(spec, embedOpt){\n",
       "    let outputDiv = document.currentScript.previousElementSibling;\n",
       "    if (outputDiv.id !== \"altair-viz-07d3891a1b634420b5a9fa62fa4bcb8e\") {\n",
       "      outputDiv = document.getElementById(\"altair-viz-07d3891a1b634420b5a9fa62fa4bcb8e\");\n",
       "    }\n",
       "    const paths = {\n",
       "      \"vega\": \"https://cdn.jsdelivr.net/npm//vega@5?noext\",\n",
       "      \"vega-lib\": \"https://cdn.jsdelivr.net/npm//vega-lib?noext\",\n",
       "      \"vega-lite\": \"https://cdn.jsdelivr.net/npm//vega-lite@4.8.1?noext\",\n",
       "      \"vega-embed\": \"https://cdn.jsdelivr.net/npm//vega-embed@6?noext\",\n",
       "    };\n",
       "\n",
       "    function loadScript(lib) {\n",
       "      return new Promise(function(resolve, reject) {\n",
       "        var s = document.createElement('script');\n",
       "        s.src = paths[lib];\n",
       "        s.async = true;\n",
       "        s.onload = () => resolve(paths[lib]);\n",
       "        s.onerror = () => reject(`Error loading script: ${paths[lib]}`);\n",
       "        document.getElementsByTagName(\"head\")[0].appendChild(s);\n",
       "      });\n",
       "    }\n",
       "\n",
       "    function showError(err) {\n",
       "      outputDiv.innerHTML = `<div class=\"error\" style=\"color:red;\">${err}</div>`;\n",
       "      throw err;\n",
       "    }\n",
       "\n",
       "    function displayChart(vegaEmbed) {\n",
       "      vegaEmbed(outputDiv, spec, embedOpt)\n",
       "        .catch(err => showError(`Javascript Error: ${err.message}<br>This usually means there's a typo in your chart specification. See the javascript console for the full traceback.`));\n",
       "    }\n",
       "\n",
       "    if(typeof define === \"function\" && define.amd) {\n",
       "      requirejs.config({paths});\n",
       "      require([\"vega-embed\"], displayChart, err => showError(`Error loading script: ${err.message}`));\n",
       "    } else if (typeof vegaEmbed === \"function\") {\n",
       "      displayChart(vegaEmbed);\n",
       "    } else {\n",
       "      loadScript(\"vega\")\n",
       "        .then(() => loadScript(\"vega-lite\"))\n",
       "        .then(() => loadScript(\"vega-embed\"))\n",
       "        .catch(showError)\n",
       "        .then(() => displayChart(vegaEmbed));\n",
       "    }\n",
       "  })({\"config\": {\"view\": {\"continuousWidth\": 400, \"continuousHeight\": 300}}, \"data\": {\"name\": \"data-c780f8d4f47752567452b3e17a0e68a9\"}, \"mark\": {\"type\": \"circle\", \"size\": 60}, \"encoding\": {\"x\": {\"type\": \"quantitative\", \"field\": \"TotalCoinsMined\"}, \"y\": {\"type\": \"quantitative\", \"field\": \"MaxSupply\"}}, \"$schema\": \"https://vega.github.io/schema/vega-lite/v4.8.1.json\", \"datasets\": {\"data-c780f8d4f47752567452b3e17a0e68a9\": [{\"index\": \"NVC\", \"TotalCoinsMined\": 2.942528080796605e-06, \"MaxSupply\": 0.0}, {\"index\": \"XCP\", \"TotalCoinsMined\": 2.4737441260451273e-06, \"MaxSupply\": 0.0}, {\"index\": \"NSR\", \"TotalCoinsMined\": 0.0059086548354637825, \"MaxSupply\": 1.0101010100999899e-12}, {\"index\": \"MONA\", \"TotalCoinsMined\": 8.064272250961212e-05, \"MaxSupply\": 0.0}, {\"index\": \"TRI\", \"TotalCoinsMined\": 0.0, \"MaxSupply\": 1.0101010100999899e-12}, {\"index\": \"EMC\", \"TotalCoinsMined\": 4.7039231774724184e-05, \"MaxSupply\": 0.0}, {\"index\": \"CMTC\", \"TotalCoinsMined\": 7.137311175252292e-07, \"MaxSupply\": 1.0101010100999899e-12}, {\"index\": \"XSN\", \"TotalCoinsMined\": 0.00011686992868470301, \"MaxSupply\": 0.0}, {\"index\": \"CHAT\", \"TotalCoinsMined\": 0.001009944815890164, \"MaxSupply\": 0.001010101011110091}, {\"index\": \"AMB\", \"TotalCoinsMined\": 0.0006360187165740382, \"MaxSupply\": 0.0}, {\"index\": \"PURA\", \"TotalCoinsMined\": 0.0001894958928720154, \"MaxSupply\": 0.0}, {\"index\": \"BTCP\", \"TotalCoinsMined\": 3.689572131050701e-06, \"MaxSupply\": 2.3104635353512018e-05}, {\"index\": \"KCASH\", \"TotalCoinsMined\": 0.001009944815890164, \"MaxSupply\": 0.001010101011110091}, {\"index\": \"BEAM\", \"TotalCoinsMined\": 6.248195540834245e-05, \"MaxSupply\": 0.000266052673737105}, {\"index\": \"VSYS\", \"TotalCoinsMined\": 0.0057813403376007644, \"MaxSupply\": 0.0}, {\"index\": \"BDX\", \"TotalCoinsMined\": 0.0014142147736782569, \"MaxSupply\": 0.0}, {\"index\": \"CKB\", \"TotalCoinsMined\": 0.03050383126794432, \"MaxSupply\": 0.0}, {\"index\": \"MWC\", \"TotalCoinsMined\": 1.0620675526500514e-05, \"MaxSupply\": 2.0202021212100806e-05}, {\"index\": \"AR\", \"TotalCoinsMined\": 6.414543967849624e-05, \"MaxSupply\": 6.666666767670033e-05}, {\"index\": \"BUX\", \"TotalCoinsMined\": 0.0004544581398069885, \"MaxSupply\": 0.0}, {\"index\": \"AAC\", \"TotalCoinsMined\": 0.001009944815890164, \"MaxSupply\": 0.001010101011110091}, {\"index\": \"PST\", \"TotalCoinsMined\": 0.00010084334856106023, \"MaxSupply\": 0.00010101010202009999}, {\"index\": \"HC\", \"TotalCoinsMined\": 4.5227790663247804e-05, \"MaxSupply\": 8.484848585850016e-05}, {\"index\": \"LOKI\", \"TotalCoinsMined\": 5.2165664030060084e-05, \"MaxSupply\": 0.0}, {\"index\": \"AEON\", \"TotalCoinsMined\": 1.7734502063812016e-05, \"MaxSupply\": 0.0}, {\"index\": \"BTCVT\", \"TotalCoinsMined\": 9.967166869081783e-06, \"MaxSupply\": 2.1212122222200798e-05}, {\"index\": \"BCHA\", \"TotalCoinsMined\": 1.86160699903376e-05, \"MaxSupply\": 2.1212122198867463e-05}, {\"index\": \"DOGE\", \"TotalCoinsMined\": 0.12875475811535267, \"MaxSupply\": 0.0}, {\"index\": \"BLK\", \"TotalCoinsMined\": 6.0816002723229176e-05, \"MaxSupply\": 0.00010101010202009999}, {\"index\": \"AUR\", \"TotalCoinsMined\": 1.9023193755177945e-05, \"MaxSupply\": 2.1212122222200798e-05}, {\"index\": \"BTT\", \"TotalCoinsMined\": 0.9999999999999999, \"MaxSupply\": 1.0}, {\"index\": \"DGB\", \"TotalCoinsMined\": 0.013997461388002664, \"MaxSupply\": 0.021212121213109888}, {\"index\": \"SMART\", \"TotalCoinsMined\": 0.0026040568500624926, \"MaxSupply\": 0.00505050505151005}, {\"index\": \"BCN\", \"TotalCoinsMined\": 0.1863327443505667, \"MaxSupply\": 0.18633333333415525}, {\"index\": \"BCH\", \"TotalCoinsMined\": 1.862382891883306e-05, \"MaxSupply\": 2.1212122198867463e-05}, {\"index\": \"ICX\", \"TotalCoinsMined\": 0.0008779035114142511, \"MaxSupply\": 0.0}, {\"index\": \"INT\", \"TotalCoinsMined\": 0.00046442142524151183, \"MaxSupply\": 0.001010101011110091}, {\"index\": \"GRIN\", \"TotalCoinsMined\": 5.710986031371662e-05, \"MaxSupply\": 0.0}, {\"index\": \"RISE\", \"TotalCoinsMined\": 0.00016916757986158249, \"MaxSupply\": 0.0}, {\"index\": \"IOC\", \"TotalCoinsMined\": 1.860154388987081e-05, \"MaxSupply\": 2.2222223232300787e-05}, {\"index\": \"XWC\", \"TotalCoinsMined\": 0.0009119433847793915, \"MaxSupply\": 0.001010101011110091}, {\"index\": \"ZEN\", \"TotalCoinsMined\": 1.0499875076118342e-05, \"MaxSupply\": 2.1212122222200798e-05}, {\"index\": \"NAV\", \"TotalCoinsMined\": 7.106777134332351e-05, \"MaxSupply\": 0.0}, {\"index\": \"NXS\", \"TotalCoinsMined\": 6.961446809548585e-05, \"MaxSupply\": 7.878787979790021e-05}, {\"index\": \"ZEC\", \"TotalCoinsMined\": 1.0544115767157373e-05, \"MaxSupply\": 2.1212122222200798e-05}, {\"index\": \"VTC\", \"TotalCoinsMined\": 5.83147221282421e-05, \"MaxSupply\": 8.484848585850016e-05}, {\"index\": \"XMR\", \"TotalCoinsMined\": 1.7801988987331538e-05, \"MaxSupply\": 0.0}, {\"index\": \"DCR\", \"TotalCoinsMined\": 1.2342720536992579e-05, \"MaxSupply\": 2.1212122222200798e-05}, {\"index\": \"STEEM\", \"TotalCoinsMined\": 0.0003767880446384097, \"MaxSupply\": 0.0}, {\"index\": \"BNB\", \"TotalCoinsMined\": 0.00017574678403965715, \"MaxSupply\": 0.0001759126675755799}, {\"index\": \"BSV\", \"TotalCoinsMined\": 1.8621921823400687e-05, \"MaxSupply\": 2.1212122198867463e-05}, {\"index\": \"QRK\", \"TotalCoinsMined\": 0.0002702636891641562, \"MaxSupply\": 0.0}, {\"index\": \"EXP\", \"TotalCoinsMined\": 3.4883342072008e-05, \"MaxSupply\": 0.00010101010202009999}, {\"index\": \"MEC\", \"TotalCoinsMined\": 3.956509299663283e-05, \"MaxSupply\": 4.242424343430059e-05}, {\"index\": \"SLS\", \"TotalCoinsMined\": 8.746554816678353e-07, \"MaxSupply\": 0.0}, {\"index\": \"POT\", \"TotalCoinsMined\": 0.00022739074582780536, \"MaxSupply\": 0.00042424242525209674}, {\"index\": \"NLG\", \"TotalCoinsMined\": 0.0005307789104904961, \"MaxSupply\": 0.001696969697978084}, {\"index\": \"BCD\", \"TotalCoinsMined\": 0.00020077777939427781, \"MaxSupply\": 0.00021212121313109888}, {\"index\": \"NMC\", \"TotalCoinsMined\": 1.7226758757210776e-05, \"MaxSupply\": 0.0}, {\"index\": \"EMC2\", \"TotalCoinsMined\": 0.0002231083549015699, \"MaxSupply\": 0.0}, {\"index\": \"UBQ\", \"TotalCoinsMined\": 5.0030116952937915e-05, \"MaxSupply\": 0.0}, {\"index\": \"RDD\", \"TotalCoinsMined\": 0.030169779909807706, \"MaxSupply\": 0.0}, {\"index\": \"SIB\", \"TotalCoinsMined\": 1.8886787469386514e-05, \"MaxSupply\": 2.1212122222200798e-05}, {\"index\": \"BTG\", \"TotalCoinsMined\": 1.8614039879987687e-05, \"MaxSupply\": 2.1212122222200798e-05}, {\"index\": \"GRS\", \"TotalCoinsMined\": 7.715209249070912e-05, \"MaxSupply\": 0.00010606060707059994}, {\"index\": \"XDN\", \"TotalCoinsMined\": 0.005142946135119199, \"MaxSupply\": 0.0}, {\"index\": \"VIA\", \"TotalCoinsMined\": 2.3238942332368695e-05, \"MaxSupply\": 0.0}, {\"index\": \"SYS\", \"TotalCoinsMined\": 0.0006084269411322902, \"MaxSupply\": 0.000896969697978892}, {\"index\": \"FTC\", \"TotalCoinsMined\": 0.0002370538173760143, \"MaxSupply\": 0.00033939394040369763}, {\"index\": \"CLOAK\", \"TotalCoinsMined\": 5.448708363530367e-06, \"MaxSupply\": 0.0}, {\"index\": \"ACT\", \"TotalCoinsMined\": 0.001009944815890164, \"MaxSupply\": 1.0101010100999899e-12}, {\"index\": \"XVG\", \"TotalCoinsMined\": 0.016571627915177405, \"MaxSupply\": 0.016722222223215434}, {\"index\": \"BURST\", \"TotalCoinsMined\": 0.0021325133967542032, \"MaxSupply\": 0.0021806189909068883}, {\"index\": \"SC\", \"TotalCoinsMined\": 0.045646779378369404, \"MaxSupply\": 0.0}, {\"index\": \"POA\", \"TotalCoinsMined\": 0.0002853269464137469, \"MaxSupply\": 0.0}, {\"index\": \"BTM\", \"TotalCoinsMined\": 0.0016590213819958816, \"MaxSupply\": 0.00021212121313109888}, {\"index\": \"BLOCK\", \"TotalCoinsMined\": 7.2649585821057205e-06, \"MaxSupply\": 0.0}, {\"index\": \"NXT\", \"TotalCoinsMined\": 0.0010089346303576304, \"MaxSupply\": 0.001010101011110091}, {\"index\": \"AION\", \"TotalCoinsMined\": 0.0004922588782708834, \"MaxSupply\": 0.0}, {\"index\": \"SHIFT\", \"TotalCoinsMined\": 1.4399652691083706e-05, \"MaxSupply\": 0.0}, {\"index\": \"VET\", \"TotalCoinsMined\": 0.08685441774370682, \"MaxSupply\": 0.08758851966354789}, {\"index\": \"QTUM\", \"TotalCoinsMined\": 0.00010387906058527523, \"MaxSupply\": 0.00010891151843423342}, {\"index\": \"PIVX\", \"TotalCoinsMined\": 6.895694876312243e-07, \"MaxSupply\": 0.0}, {\"index\": \"NANO\", \"TotalCoinsMined\": 0.0001344278699223753, \"MaxSupply\": 0.0001345942333331974}, {\"index\": \"ONT\", \"TotalCoinsMined\": 0.001009944815890164, \"MaxSupply\": 0.0}, {\"index\": \"LSK\", \"TotalCoinsMined\": 0.00014398229401807363, \"MaxSupply\": 0.0}, {\"index\": \"DASH\", \"TotalCoinsMined\": 9.810796790377204e-06, \"MaxSupply\": 1.9090910100990818e-05}, {\"index\": \"ETC\", \"TotalCoinsMined\": 0.00012492575720178013, \"MaxSupply\": 0.00021282828383816887}, {\"index\": \"ARK\", \"TotalCoinsMined\": 0.00015551009456777587, \"MaxSupply\": 0.0}, {\"index\": \"LTC\", \"TotalCoinsMined\": 6.709769980667725e-05, \"MaxSupply\": 8.484848585850016e-05}, {\"index\": \"KMD\", \"TotalCoinsMined\": 0.00012631213313507797, \"MaxSupply\": 0.000202020203030099}, {\"index\": \"BTS\", \"TotalCoinsMined\": 0.003024930840448282, \"MaxSupply\": 0.0036369399020165284}, {\"index\": \"BTC\", \"TotalCoinsMined\": 1.8595398389865474e-05, \"MaxSupply\": 2.1212122198867463e-05}, {\"index\": \"ETH\", \"TotalCoinsMined\": 0.00011488256558776635, \"MaxSupply\": 0.0}, {\"index\": \"WAVES\", \"TotalCoinsMined\": 0.00010472087238221811, \"MaxSupply\": 0.0}, {\"index\": \"ADA\", \"TotalCoinsMined\": 0.032103943674834476, \"MaxSupply\": 0.04545454545550964}, {\"index\": \"EOS\", \"TotalCoinsMined\": 0.0010356439794651448, \"MaxSupply\": 0.0}]}}, {\"mode\": \"vega-lite\"});\n",
       "</script>"
      ],
      "text/plain": [
       "alt.Chart(...)"
      ]
     },
     "execution_count": 26,
     "metadata": {},
     "output_type": "execute_result"
    }
   ],
   "source": [
    "# Plot the scatter with x=\"TotalCoinsMined\" and y=\"TotalCoinSupply\"\n",
    "alt.Chart(df_tradable).mark_circle(size=60).encode(\n",
    "    x='TotalCoinsMined',\n",
    "    y='MaxSupply',\n",
    ")"
   ]
  },
  {
   "cell_type": "code",
   "execution_count": null,
   "metadata": {},
   "outputs": [],
   "source": []
  }
 ],
 "metadata": {
  "file_extension": ".py",
  "kernelspec": {
   "display_name": "Python 3",
   "language": "python",
   "name": "python3"
  },
  "language_info": {
   "codemirror_mode": {
    "name": "ipython",
    "version": 3
   },
   "file_extension": ".py",
   "mimetype": "text/x-python",
   "name": "python",
   "nbconvert_exporter": "python",
   "pygments_lexer": "ipython3",
   "version": "3.8.3"
  },
  "mimetype": "text/x-python",
  "name": "python",
  "npconvert_exporter": "python",
  "pygments_lexer": "ipython3",
  "version": 3
 },
 "nbformat": 4,
 "nbformat_minor": 4
}
